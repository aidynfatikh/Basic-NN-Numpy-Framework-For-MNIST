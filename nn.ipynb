{
 "cells": [
  {
   "cell_type": "code",
   "execution_count": 104,
   "metadata": {},
   "outputs": [],
   "source": [
    "import numpy as np\n",
    "import matplotlib.pyplot as plt\n",
    "import pandas as pd\n",
    "%matplotlib inline"
   ]
  },
  {
   "cell_type": "code",
   "execution_count": 105,
   "metadata": {},
   "outputs": [],
   "source": [
    "data = pd.read_csv(\"train.csv\").to_numpy()"
   ]
  },
  {
   "cell_type": "code",
   "execution_count": 106,
   "metadata": {},
   "outputs": [],
   "source": [
    "np.random.shuffle(data)\n",
    "size, fan_in = data.shape\n",
    "fan_in -= 1\n",
    "train, test = data[:int(size*0.8)], data[int(size*0.8):]\n",
    "X_train, Y_train = train.T[1:], train.T[0].reshape(-1, 1)\n",
    "X_test, Y_test = test.T[1:], test.T[0].reshape(-1, 1)\n",
    "output_size = len(np.unique(Y_train))\n",
    "\n",
    "high = np.max(data)\n",
    "X_train = X_train / high # normalizing data  255 -> 1\n",
    "X_test = X_test /  high "
   ]
  },
  {
   "cell_type": "code",
   "execution_count": 107,
   "metadata": {},
   "outputs": [],
   "source": [
    "def one_hot(a):\n",
    "    classes = a.max()\n",
    "    b = np.zeros((a.size, classes + 1))\n",
    "    b[np.arange(a.size), a] = 1\n",
    "    return b\n",
    "\n",
    "def get_predictions(pred):\n",
    "    out = np.argmax(pred, axis=1)\n",
    "    return out\n",
    "\n",
    "def softmax(Z):\n",
    "    A = np.exp(Z) / sum(np.exp(Z))\n",
    "    return A"
   ]
  },
  {
   "cell_type": "code",
   "execution_count": 108,
   "metadata": {},
   "outputs": [],
   "source": [
    "\n",
    "class Linear:\n",
    "    def __init__(self, fan_in, fan_out, momentum=0.9, decay_rate=0.9):\n",
    "        self.weight = np.random.rand(fan_in, fan_out) / fan_in**0.5\n",
    "        self.bias = np.random.rand(1, fan_out) * 0.1\n",
    "        self.params = [self.weight, self.bias]\n",
    "        self.momentum = momentum\n",
    "        self.decay_rate = decay_rate\n",
    "        self.grad_squared = [np.zeros_like(param) for param in self.params]\n",
    "        self.velocity = [np.zeros_like(param) for param in self.params]\n",
    "    \n",
    "    def __call__(self, X):\n",
    "        self.out = np.dot(X, self.weight) + self.bias\n",
    "        self.input = X\n",
    "        return self.out\n",
    "    \n",
    "    def backward(self, chain, lr):\n",
    "        grad = np.dot(chain, self.weight.T)\n",
    "\n",
    "        dw = (np.dot(self.input.T, chain))\n",
    "        self.velocity[0] = self.velocity[0] * self.momentum + (1-self.momentum) * dw # momentum\n",
    "        self.grad_squared[0] = self.grad_squared[0] * self.decay_rate + (1 - self.decay_rate) * dw * dw\n",
    "        self.weight -= lr * self.velocity[0] / (self.grad_squared[0]**0.5 + 1e-7) \n",
    "\n",
    "        db = np.sum(chain, 0, keepdims=True)\n",
    "        self.velocity[1] = self.velocity[1] * self.momentum + (1-self.momentum) * db # momentum\n",
    "        self.grad_squared[1] = self.grad_squared[1] * self.decay_rate + (1 - self.decay_rate) * db * db\n",
    "        self.bias -= lr * self.velocity[1] / (self.grad_squared[1]**0.5 + 1e-7) \n",
    "        return grad  \n",
    "    \n",
    "    def parameters(self):\n",
    "        return [self.weight, self.bias]\n",
    "\n",
    "class Tanh:\n",
    "    def __call__(self, X):\n",
    "        self.out = np.tanh(X)\n",
    "        self.input = X\n",
    "        return self.out \n",
    "    \n",
    "    def backward(self, chain, lr):\n",
    "        self.grad =  (1 - self.out**2) * chain\n",
    "        return self.grad\n",
    "    \n",
    "class Sigmoid:\n",
    "    def __call__(self, X):\n",
    "        self.out = 1 / (1 + np.exp(-X))\n",
    "        self.input = X\n",
    "        return self.out \n",
    "        \n",
    "    def backward(self, chain, lr):\n",
    "        self.grad =  self.out * (1 - self.out) * chain\n",
    "        return self.grad\n",
    "         \n",
    "\n",
    "class ReLU:\n",
    "    def __call__(self, X):\n",
    "        self.out = np.maximum(X, 0)\n",
    "        self.input = X\n",
    "        return self.out \n",
    "        \n",
    "    def backward(self, chain, lr):\n",
    "        self.grad =  (self.input > 0) * chain\n",
    "        return self.grad"
   ]
  },
  {
   "cell_type": "code",
   "execution_count": 109,
   "metadata": {},
   "outputs": [],
   "source": [
    "def cross_entropy(pred, real, epsilon=1e-12):\n",
    "    pred = np.exp(pred - np.max(pred, axis=1, keepdims=True))\n",
    "    pred /= np.sum(pred, axis=1, keepdims=True)\n",
    "    \n",
    "    pred = np.clip(pred, epsilon, 1 - epsilon)\n",
    "    loss = -np.sum(real * np.log(pred)) / real.shape[0]\n",
    "    grad = (pred - real) / real.shape[0]\n",
    "    \n",
    "    return loss, grad"
   ]
  },
  {
   "cell_type": "code",
   "execution_count": 110,
   "metadata": {},
   "outputs": [],
   "source": [
    "n_hidden = 100\n",
    "n = X_train.shape[1]\n",
    "\n",
    "X = X_train.T\n",
    "Y = Y_train\n",
    "\n",
    "layers = [\n",
    "    Linear(fan_in, n_hidden), ReLU(), \n",
    "    Linear(n_hidden, n_hidden), ReLU(),\n",
    "    Linear(n_hidden, output_size),\n",
    "]\n",
    "\n",
    "lossi = []"
   ]
  },
  {
   "cell_type": "code",
   "execution_count": 111,
   "metadata": {},
   "outputs": [],
   "source": [
    "def get_performance(X, Y):  # run for test\n",
    "    one_hot_Y = one_hot(Y.reshape(-1, ))\n",
    "\n",
    "    x = X\n",
    "    for layer in layers:\n",
    "        x = layer(x)\n",
    "    x = softmax(x.T).T\n",
    "    pred = get_predictions(x)\n",
    "    correct = (pred == get_predictions(one_hot_Y))\n",
    "\n",
    "    return np.count_nonzero(correct) / Y.shape[0]"
   ]
  },
  {
   "cell_type": "code",
   "execution_count": null,
   "metadata": {},
   "outputs": [
    {
     "name": "stdout",
     "output_type": "stream",
     "text": [
      "Iter: 0    | Loss: 3.14436 | Accuracy: 0.08000 | Test Accuracy: 0.09988\n",
      "Iter: 1000 | Loss: 0.26260 | Accuracy: 0.93000 | Test Accuracy: 0.94464\n",
      "Iter: 2000 | Loss: 0.04311 | Accuracy: 0.98000 | Test Accuracy: 0.95988\n",
      "Iter: 3000 | Loss: 0.07529 | Accuracy: 0.96000 | Test Accuracy: 0.96655\n",
      "Iter: 4000 | Loss: 0.00459 | Accuracy: 1.00000 | Test Accuracy: 0.96738\n",
      "Iter: 5000 | Loss: 0.00629 | Accuracy: 1.00000 | Test Accuracy: 0.96512\n",
      "Iter: 6000 | Loss: 0.00042 | Accuracy: 1.00000 | Test Accuracy: 0.96310\n",
      "Iter: 7000 | Loss: 0.00459 | Accuracy: 1.00000 | Test Accuracy: 0.96845\n",
      "Iter: 8000 | Loss: 0.00331 | Accuracy: 1.00000 | Test Accuracy: 0.96869\n",
      "Iter: 9000 | Loss: 0.04132 | Accuracy: 0.99000 | Test Accuracy: 0.96857\n"
     ]
    }
   ],
   "source": [
    "iters = 10000\n",
    "batch_size = 100\n",
    "Y_one_hot = one_hot(Y_train.reshape(-1, )) # encode labels into one-hot vectors\n",
    "\n",
    "for iter in range(iters):\n",
    "    batch = np.random.randint(0, n - batch_size) \n",
    "    Xb = X[batch:batch_size+batch] # convert input into batches\n",
    "    Yb = Y_one_hot[batch:batch_size+batch] # convert output into coresponding batches\n",
    "\n",
    "    x = Xb\n",
    "    # forward pass\n",
    "    for layer in layers:\n",
    "        x = layer(x)\n",
    "\n",
    "    loss, chain = cross_entropy(x, Yb) # Mean Squared Error as a loss function choice\n",
    "\n",
    "    # backward pass\n",
    "    lr = 0.001\n",
    "    for layer in layers[::-1]:\n",
    "        chain = layer.backward(chain, lr)\n",
    "\n",
    "    if iter%1000 == 0:  # check performance every while\n",
    "        pred = get_predictions(x)\n",
    "        accuracy = np.count_nonzero(pred == get_predictions(Yb)) / x.shape[0]\n",
    "        test_accuracy = get_performance(X_test.T, Y_test)\n",
    "        print(f\"Iter: {iter:<4} | Loss: {loss:.5f} | Accuracy: {accuracy:.5f} | Test Accuracy: {test_accuracy:.5f}\")  \n",
    "        lossi.append(loss)"
   ]
  },
  {
   "cell_type": "code",
   "execution_count": 98,
   "metadata": {},
   "outputs": [
    {
     "data": {
      "text/plain": [
       "[<matplotlib.lines.Line2D at 0x1ed868b52b0>]"
      ]
     },
     "execution_count": 98,
     "metadata": {},
     "output_type": "execute_result"
    },
    {
     "data": {
      "image/png": "[encoded data removed]",
      "text/plain": [
       "<Figure size 640x480 with 1 Axes>"
      ]
     },
     "metadata": {},
     "output_type": "display_data"
    }
   ],
   "source": [
    "plt.plot(lossi)  # plot losses"
   ]
  },
  {
   "cell_type": "code",
   "execution_count": 99,
   "metadata": {},
   "outputs": [
    {
     "data": {
      "text/plain": [
       "0.9688095238095238"
      ]
     },
     "execution_count": 99,
     "metadata": {},
     "output_type": "execute_result"
    }
   ],
   "source": [
    "get_performance(X_test.T, Y_test)  # final test accuracy"
   ]
  },
  {
   "cell_type": "code",
   "execution_count": 100,
   "metadata": {},
   "outputs": [
    {
     "name": "stdout",
     "output_type": "stream",
     "text": [
      "layer 1 (      ReLU): mean +0.74, std 1.26, saturated: 26.85%\n",
      "layer 3 (      ReLU): mean +3.46, std 3.23, saturated: 70.73%\n"
     ]
    },
    {
     "data": {
      "text/plain": [
       "Text(0.5, 1.0, 'activation distribution')"
      ]
     },
     "execution_count": 100,
     "metadata": {},
     "output_type": "execute_result"
    },
    {
     "data": {
      "image/png": "[encoded data removed]",
      "text/plain": [
       "<Figure size 2000x400 with 1 Axes>"
      ]
     },
     "metadata": {},
     "output_type": "display_data"
    }
   ],
   "source": [
    "plt.figure(figsize=(20, 4)) # plot activations to check neuron saturation\n",
    "legends = []\n",
    "for i, layer in enumerate(layers[:-1]):\n",
    "  if isinstance(layer, ReLU):\n",
    "    t = layer.out\n",
    "    print('layer %d (%10s): mean %+.2f, std %.2f, saturated: %.2f%%' % (i, layer.__class__.__name__, t.mean(), t.std(), (t > 0.97).mean()*100))\n",
    "    hy, hx = np.histogram(t, density=True)\n",
    "    plt.plot(hx[:-1], hy)\n",
    "    legends.append(f'layer {i} ({layer.__class__.__name__}')\n",
    "plt.legend(legends);\n",
    "plt.title('activation distribution')"
   ]
  },
  {
   "cell_type": "code",
   "execution_count": 102,
   "metadata": {},
   "outputs": [],
   "source": [
    "test = pd.read_csv(\"test.csv\").to_numpy()\n",
    "\n",
    "for layer in layers:\n",
    "    test = layer(test)\n",
    "test = get_predictions(test)  # get test predictions"
   ]
  },
  {
   "cell_type": "code",
   "execution_count": 103,
   "metadata": {},
   "outputs": [],
   "source": [
    "predictions = pd.DataFrame(test)\n",
    "predictions = pd.DataFrame({'ImageId': range(1, len(predictions) + 1), 'Label': predictions[0]})\n",
    "predictions.to_csv(\"submission.csv\", index=False) # store test predictions into csv file"
   ]
  }
 ],
 "metadata": {
  "kernelspec": {
   "display_name": "IML",
   "language": "python",
   "name": "iml"
  },
  "language_info": {
   "codemirror_mode": {
    "name": "ipython",
    "version": 3
   },
   "file_extension": ".py",
   "mimetype": "text/x-python",
   "name": "python",
   "nbconvert_exporter": "python",
   "pygments_lexer": "ipython3",
   "version": "3.12.4"
  }
 },
 "nbformat": 4,
 "nbformat_minor": 2
}
