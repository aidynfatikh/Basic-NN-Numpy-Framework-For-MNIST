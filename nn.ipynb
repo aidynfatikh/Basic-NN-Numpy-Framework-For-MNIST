{
 "cells": [
  {
   "cell_type": "code",
   "execution_count": 1,
   "metadata": {},
   "outputs": [],
   "source": [
    "import numpy as np\n",
    "import matplotlib.pyplot as plt\n",
    "import pandas as pd\n",
    "%matplotlib inline"
   ]
  },
  {
   "cell_type": "code",
   "execution_count": 2,
   "metadata": {},
   "outputs": [],
   "source": [
    "data = pd.read_csv(\"train.csv\").to_numpy()"
   ]
  },
  {
   "cell_type": "code",
   "execution_count": 3,
   "metadata": {},
   "outputs": [],
   "source": [
    "np.random.shuffle(data)\n",
    "size, fan_in = data.shape\n",
    "fan_in -= 1\n",
    "train, test = data[:int(size*0.8)], data[int(size*0.8):]\n",
    "X_train, Y_train = train.T[1:], train.T[0].reshape(-1, 1)\n",
    "X_test, Y_test = test.T[1:], test.T[0].reshape(-1, 1)\n",
    "\n",
    "X_train = X_train / 255 # normalizing data  255 -> 1\n",
    "X_test = X_test /  255 "
   ]
  },
  {
   "cell_type": "code",
   "execution_count": 4,
   "metadata": {},
   "outputs": [],
   "source": [
    "def one_hot(a):\n",
    "    classes = a.max()\n",
    "    b = np.zeros((a.size, classes + 1))\n",
    "    b[np.arange(a.size), a] = 1\n",
    "    return b\n",
    "\n",
    "def get_predictions(pred):\n",
    "    out = np.argmax(pred, axis=1)\n",
    "    return out\n",
    "\n",
    "def softmax(Z):\n",
    "    A = np.exp(Z) / sum(np.exp(Z))\n",
    "    return A"
   ]
  },
  {
   "cell_type": "code",
   "execution_count": 5,
   "metadata": {},
   "outputs": [],
   "source": [
    "\n",
    "class Linear:\n",
    "    def __init__(self, fan_in, fan_out):\n",
    "        self.weight = np.random.rand(fan_in, fan_out) \n",
    "        self.bias = np.random.rand(1, fan_out) \n",
    "    \n",
    "    def __call__(self, X):\n",
    "        self.out = np.dot(X, self.weight) + self.bias\n",
    "        self.input = X\n",
    "        return self.out\n",
    "    \n",
    "    def backward(self, chain, lr):\n",
    "        self.weight -= np.dot(self.input.T, chain) * lr\n",
    "        self.bias -= np.sum(chain) * lr\n",
    "        grad = np.dot(chain, self.weight.T)\n",
    "        return grad  \n",
    "    \n",
    "    def parameters(self):\n",
    "        return [self.weight, self.bias]\n",
    "\n",
    "class Tanh:\n",
    "    def __call__(self, X):\n",
    "        self.out = np.tanh(X)\n",
    "        self.input = X\n",
    "        return self.out \n",
    "    \n",
    "    def backward(self, chain, lr):\n",
    "        self.grad =  (1 - self.out**2) * chain\n",
    "        return self.grad\n",
    "    \n",
    "class Sigmoid:\n",
    "    def __call__(self, X):\n",
    "        self.out = 1 / (1 + np.exp(-X))\n",
    "        self.input = X\n",
    "        return self.out \n",
    "        \n",
    "    def backward(self, chain, lr):\n",
    "        self.grad =  self.out * (1 - self.out) * chain\n",
    "        return self.grad\n",
    "         \n",
    "\n",
    "class ReLU:\n",
    "    def __call__(self, X):\n",
    "        self.out = np.maximum(X, 0)\n",
    "        self.input = X\n",
    "        return self.out \n",
    "        \n",
    "    def backward(self, chain, lr):\n",
    "        self.grad =  (self.input > 0) * chain\n",
    "        return self.grad"
   ]
  },
  {
   "cell_type": "code",
   "execution_count": 6,
   "metadata": {},
   "outputs": [],
   "source": [
    "def MSE(pred, real):\n",
    "    loss = np.sum((pred - real)**2) / (2 * real.shape[0])\n",
    "    grad = (pred - real) / (real.shape[0])\n",
    "    return loss, grad"
   ]
  },
  {
   "cell_type": "code",
   "execution_count": 7,
   "metadata": {},
   "outputs": [],
   "source": [
    "n_hidden = 60\n",
    "fan_in = 784\n",
    "n = X_train.shape[1]\n",
    "\n",
    "X = X_train.T\n",
    "Y = Y_train\n",
    "\n",
    "layers = [\n",
    "    Linear(fan_in, n_hidden), ReLU(), \n",
    "    Linear(n_hidden, n_hidden), ReLU(),\n",
    "    Linear(n_hidden, n_hidden), Sigmoid(),\n",
    "    Linear(n_hidden, 10),\n",
    "]\n",
    "\n",
    "for layer in layers:\n",
    "    if isinstance(layer, Linear):\n",
    "        layer.weight -= 0.5   # reducing range (0, 1) -> (-0.5, 0.5) for lower initial confidence\n",
    "        layer.bias -= 0.5\n",
    "lossi = []"
   ]
  },
  {
   "cell_type": "code",
   "execution_count": 8,
   "metadata": {},
   "outputs": [],
   "source": [
    "def get_performance(X, Y):  # run for test\n",
    "    one_hot_Y = one_hot(Y.reshape(-1, ))\n",
    "\n",
    "    x = X\n",
    "    for layer in layers:\n",
    "        x = layer(x)\n",
    "    x = softmax(x)\n",
    "    pred = get_predictions(x)\n",
    "    correct = (pred == get_predictions(one_hot_Y))\n",
    "\n",
    "    return np.count_nonzero(correct) / Y.shape[0]"
   ]
  },
  {
   "cell_type": "code",
   "execution_count": 9,
   "metadata": {},
   "outputs": [
    {
     "name": "stdout",
     "output_type": "stream",
     "text": [
      "Epochs: 0    | Loss: 0.56490 | Accuracy: 0.10400 | Test Accuracy: 0.11833\n",
      "Epochs: 100  | Loss: 0.20966 | Accuracy: 0.72400 | Test Accuracy: 0.71643\n",
      "Epochs: 200  | Loss: 0.13712 | Accuracy: 0.82100 | Test Accuracy: 0.79095\n",
      "Epochs: 300  | Loss: 0.11200 | Accuracy: 0.85400 | Test Accuracy: 0.82869\n",
      "Epochs: 400  | Loss: 0.09561 | Accuracy: 0.87800 | Test Accuracy: 0.85286\n",
      "Epochs: 500  | Loss: 0.10672 | Accuracy: 0.85500 | Test Accuracy: 0.86679\n",
      "Epochs: 600  | Loss: 0.07779 | Accuracy: 0.90400 | Test Accuracy: 0.87679\n",
      "Epochs: 700  | Loss: 0.08583 | Accuracy: 0.89000 | Test Accuracy: 0.88440\n",
      "Epochs: 800  | Loss: 0.06726 | Accuracy: 0.90800 | Test Accuracy: 0.89000\n",
      "Epochs: 900  | Loss: 0.06561 | Accuracy: 0.91300 | Test Accuracy: 0.89607\n",
      "Epochs: 1000 | Loss: 0.08001 | Accuracy: 0.90000 | Test Accuracy: 0.90024\n",
      "Epochs: 1100 | Loss: 0.07222 | Accuracy: 0.90000 | Test Accuracy: 0.90333\n",
      "Epochs: 1200 | Loss: 0.06231 | Accuracy: 0.91400 | Test Accuracy: 0.90762\n",
      "Epochs: 1300 | Loss: 0.06254 | Accuracy: 0.92200 | Test Accuracy: 0.90857\n",
      "Epochs: 1400 | Loss: 0.05960 | Accuracy: 0.92700 | Test Accuracy: 0.91250\n",
      "Epochs: 1500 | Loss: 0.05833 | Accuracy: 0.92500 | Test Accuracy: 0.91417\n",
      "Epochs: 1600 | Loss: 0.05063 | Accuracy: 0.93200 | Test Accuracy: 0.91679\n",
      "Epochs: 1700 | Loss: 0.05519 | Accuracy: 0.93000 | Test Accuracy: 0.91893\n",
      "Epochs: 1800 | Loss: 0.04553 | Accuracy: 0.94500 | Test Accuracy: 0.92024\n",
      "Epochs: 1900 | Loss: 0.04435 | Accuracy: 0.94100 | Test Accuracy: 0.92179\n",
      "Epochs: 2000 | Loss: 0.04443 | Accuracy: 0.94300 | Test Accuracy: 0.92393\n",
      "Epochs: 2100 | Loss: 0.02927 | Accuracy: 0.96600 | Test Accuracy: 0.92405\n",
      "Epochs: 2200 | Loss: 0.05373 | Accuracy: 0.93200 | Test Accuracy: 0.92679\n",
      "Epochs: 2300 | Loss: 0.04066 | Accuracy: 0.95000 | Test Accuracy: 0.92810\n",
      "Epochs: 2400 | Loss: 0.04142 | Accuracy: 0.94700 | Test Accuracy: 0.92738\n",
      "Epochs: 2500 | Loss: 0.04669 | Accuracy: 0.94200 | Test Accuracy: 0.92893\n",
      "Epochs: 2600 | Loss: 0.04276 | Accuracy: 0.94400 | Test Accuracy: 0.93036\n",
      "Epochs: 2700 | Loss: 0.03814 | Accuracy: 0.95300 | Test Accuracy: 0.93095\n",
      "Epochs: 2800 | Loss: 0.03710 | Accuracy: 0.95000 | Test Accuracy: 0.93238\n",
      "Epochs: 2900 | Loss: 0.03844 | Accuracy: 0.95100 | Test Accuracy: 0.93321\n",
      "Epochs: 3000 | Loss: 0.03790 | Accuracy: 0.94700 | Test Accuracy: 0.93345\n",
      "Epochs: 3100 | Loss: 0.03485 | Accuracy: 0.95300 | Test Accuracy: 0.93369\n",
      "Epochs: 3200 | Loss: 0.03419 | Accuracy: 0.95600 | Test Accuracy: 0.93488\n",
      "Epochs: 3300 | Loss: 0.02991 | Accuracy: 0.96700 | Test Accuracy: 0.93464\n",
      "Epochs: 3400 | Loss: 0.03517 | Accuracy: 0.95900 | Test Accuracy: 0.93560\n",
      "Epochs: 3500 | Loss: 0.02924 | Accuracy: 0.96600 | Test Accuracy: 0.93512\n",
      "Epochs: 3600 | Loss: 0.03259 | Accuracy: 0.95700 | Test Accuracy: 0.93679\n",
      "Epochs: 3700 | Loss: 0.02728 | Accuracy: 0.96700 | Test Accuracy: 0.93762\n",
      "Epochs: 3800 | Loss: 0.03661 | Accuracy: 0.95200 | Test Accuracy: 0.93750\n",
      "Epochs: 3900 | Loss: 0.02980 | Accuracy: 0.96300 | Test Accuracy: 0.93952\n",
      "Epochs: 4000 | Loss: 0.03033 | Accuracy: 0.95800 | Test Accuracy: 0.93988\n",
      "Epochs: 4100 | Loss: 0.02864 | Accuracy: 0.96800 | Test Accuracy: 0.93964\n",
      "Epochs: 4200 | Loss: 0.02448 | Accuracy: 0.97000 | Test Accuracy: 0.94012\n",
      "Epochs: 4300 | Loss: 0.02883 | Accuracy: 0.95700 | Test Accuracy: 0.94071\n",
      "Epochs: 4400 | Loss: 0.03498 | Accuracy: 0.95800 | Test Accuracy: 0.94119\n",
      "Epochs: 4500 | Loss: 0.02494 | Accuracy: 0.97000 | Test Accuracy: 0.94190\n",
      "Epochs: 4600 | Loss: 0.03126 | Accuracy: 0.95800 | Test Accuracy: 0.94226\n",
      "Epochs: 4700 | Loss: 0.02327 | Accuracy: 0.97000 | Test Accuracy: 0.94226\n",
      "Epochs: 4800 | Loss: 0.02915 | Accuracy: 0.95900 | Test Accuracy: 0.94310\n",
      "Epochs: 4900 | Loss: 0.03102 | Accuracy: 0.96400 | Test Accuracy: 0.94440\n",
      "Epochs: 5000 | Loss: 0.02767 | Accuracy: 0.97000 | Test Accuracy: 0.94405\n",
      "Epochs: 5100 | Loss: 0.02482 | Accuracy: 0.96900 | Test Accuracy: 0.94369\n",
      "Epochs: 5200 | Loss: 0.03582 | Accuracy: 0.95200 | Test Accuracy: 0.94405\n",
      "Epochs: 5300 | Loss: 0.03315 | Accuracy: 0.96300 | Test Accuracy: 0.94381\n",
      "Epochs: 5400 | Loss: 0.02917 | Accuracy: 0.96600 | Test Accuracy: 0.94381\n",
      "Epochs: 5500 | Loss: 0.03071 | Accuracy: 0.96100 | Test Accuracy: 0.94417\n",
      "Epochs: 5600 | Loss: 0.02778 | Accuracy: 0.96800 | Test Accuracy: 0.94381\n",
      "Epochs: 5700 | Loss: 0.02833 | Accuracy: 0.96600 | Test Accuracy: 0.94345\n",
      "Epochs: 5800 | Loss: 0.02462 | Accuracy: 0.96800 | Test Accuracy: 0.94393\n",
      "Epochs: 5900 | Loss: 0.02246 | Accuracy: 0.97700 | Test Accuracy: 0.94393\n",
      "Epochs: 6000 | Loss: 0.02511 | Accuracy: 0.96400 | Test Accuracy: 0.94393\n",
      "Epochs: 6100 | Loss: 0.02080 | Accuracy: 0.97800 | Test Accuracy: 0.94381\n",
      "Epochs: 6200 | Loss: 0.02551 | Accuracy: 0.96700 | Test Accuracy: 0.94405\n",
      "Epochs: 6300 | Loss: 0.02482 | Accuracy: 0.96700 | Test Accuracy: 0.94440\n",
      "Epochs: 6400 | Loss: 0.02151 | Accuracy: 0.97500 | Test Accuracy: 0.94357\n",
      "Epochs: 6500 | Loss: 0.02141 | Accuracy: 0.97600 | Test Accuracy: 0.94405\n",
      "Epochs: 6600 | Loss: 0.02199 | Accuracy: 0.97100 | Test Accuracy: 0.94464\n",
      "Epochs: 6700 | Loss: 0.01894 | Accuracy: 0.97600 | Test Accuracy: 0.94417\n",
      "Epochs: 6800 | Loss: 0.03204 | Accuracy: 0.95700 | Test Accuracy: 0.94393\n",
      "Epochs: 6900 | Loss: 0.02684 | Accuracy: 0.96500 | Test Accuracy: 0.94405\n",
      "Epochs: 7000 | Loss: 0.02456 | Accuracy: 0.97000 | Test Accuracy: 0.94417\n",
      "Epochs: 7100 | Loss: 0.03478 | Accuracy: 0.95200 | Test Accuracy: 0.94452\n",
      "Epochs: 7200 | Loss: 0.02537 | Accuracy: 0.96400 | Test Accuracy: 0.94429\n",
      "Epochs: 7300 | Loss: 0.02580 | Accuracy: 0.97100 | Test Accuracy: 0.94369\n",
      "Epochs: 7400 | Loss: 0.02131 | Accuracy: 0.97200 | Test Accuracy: 0.94440\n",
      "Epochs: 7500 | Loss: 0.01808 | Accuracy: 0.97500 | Test Accuracy: 0.94464\n",
      "Epochs: 7600 | Loss: 0.02544 | Accuracy: 0.97400 | Test Accuracy: 0.94476\n",
      "Epochs: 7700 | Loss: 0.02723 | Accuracy: 0.96300 | Test Accuracy: 0.94500\n",
      "Epochs: 7800 | Loss: 0.02385 | Accuracy: 0.97300 | Test Accuracy: 0.94452\n",
      "Epochs: 7900 | Loss: 0.02174 | Accuracy: 0.97600 | Test Accuracy: 0.94476\n",
      "Epochs: 8000 | Loss: 0.02303 | Accuracy: 0.97100 | Test Accuracy: 0.94524\n",
      "Epochs: 8100 | Loss: 0.02388 | Accuracy: 0.97100 | Test Accuracy: 0.94440\n",
      "Epochs: 8200 | Loss: 0.02295 | Accuracy: 0.96900 | Test Accuracy: 0.94476\n",
      "Epochs: 8300 | Loss: 0.02371 | Accuracy: 0.96800 | Test Accuracy: 0.94524\n",
      "Epochs: 8400 | Loss: 0.02670 | Accuracy: 0.96500 | Test Accuracy: 0.94452\n",
      "Epochs: 8500 | Loss: 0.01932 | Accuracy: 0.98000 | Test Accuracy: 0.94464\n",
      "Epochs: 8600 | Loss: 0.02024 | Accuracy: 0.97800 | Test Accuracy: 0.94524\n",
      "Epochs: 8700 | Loss: 0.02102 | Accuracy: 0.97300 | Test Accuracy: 0.94536\n",
      "Epochs: 8800 | Loss: 0.01986 | Accuracy: 0.97800 | Test Accuracy: 0.94512\n",
      "Epochs: 8900 | Loss: 0.02291 | Accuracy: 0.97200 | Test Accuracy: 0.94476\n",
      "Epochs: 9000 | Loss: 0.02146 | Accuracy: 0.97300 | Test Accuracy: 0.94440\n",
      "Epochs: 9100 | Loss: 0.02419 | Accuracy: 0.96700 | Test Accuracy: 0.94488\n",
      "Epochs: 9200 | Loss: 0.02540 | Accuracy: 0.96500 | Test Accuracy: 0.94464\n",
      "Epochs: 9300 | Loss: 0.02119 | Accuracy: 0.97600 | Test Accuracy: 0.94500\n",
      "Epochs: 9400 | Loss: 0.01990 | Accuracy: 0.97600 | Test Accuracy: 0.94476\n",
      "Epochs: 9500 | Loss: 0.02314 | Accuracy: 0.97300 | Test Accuracy: 0.94512\n",
      "Epochs: 9600 | Loss: 0.02182 | Accuracy: 0.97600 | Test Accuracy: 0.94512\n",
      "Epochs: 9700 | Loss: 0.02676 | Accuracy: 0.96500 | Test Accuracy: 0.94488\n",
      "Epochs: 9800 | Loss: 0.02494 | Accuracy: 0.96500 | Test Accuracy: 0.94488\n",
      "Epochs: 9900 | Loss: 0.02180 | Accuracy: 0.97300 | Test Accuracy: 0.94536\n"
     ]
    }
   ],
   "source": [
    "epochs = 10000\n",
    "batch_size = 1000\n",
    "Y_one_hot = one_hot(Y_train.reshape(-1, )) # encode labels into one-hot vectors\n",
    "\n",
    "for epoch in range(epochs):\n",
    "    batch = np.random.randint(0, n - batch_size) \n",
    "    Xb = X[batch:batch_size+batch] # convert input into batches\n",
    "    Yb = Y_one_hot[batch:batch_size+batch] # convert output into coresponding batches\n",
    "\n",
    "    x = Xb\n",
    "    # forward pass\n",
    "    for layer in layers:\n",
    "        x = layer(x)\n",
    "\n",
    "    x = softmax(x.T).T  # convert output into a probability distribution\n",
    "    loss, chain = MSE(x, Yb) # Mean Squared Error as a loss function choice\n",
    "\n",
    "    # backward pass\n",
    "    lr = 0.1 if epoch < 5000 else 0.01 # reduce learning rate in late training\n",
    "    for layer in layers[::-1]:\n",
    "        chain = layer.backward(chain, lr)\n",
    "\n",
    "    if epoch%100 == 0:  # check performance every while\n",
    "        pred = get_predictions(x)\n",
    "        accuracy = np.count_nonzero(pred == get_predictions(Yb)) / x.shape[0]\n",
    "        test_accuracy = get_performance(X_test.T, Y_test)\n",
    "        print(f\"Epochs: {epoch:<4} | Loss: {loss:.5f} | Accuracy: {accuracy:.5f} | Test Accuracy: {test_accuracy:.5f}\")  \n",
    "        lossi.append(loss)"
   ]
  },
  {
   "cell_type": "code",
   "execution_count": 10,
   "metadata": {},
   "outputs": [
    {
     "data": {
      "text/plain": [
       "[<matplotlib.lines.Line2D at 0x1df252886b0>]"
      ]
     },
     "execution_count": 10,
     "metadata": {},
     "output_type": "execute_result"
    },
    {
     "data": {
      "image/png": "[encoded data removed]",
      "text/plain": [
       "<Figure size 640x480 with 1 Axes>"
      ]
     },
     "metadata": {},
     "output_type": "display_data"
    }
   ],
   "source": [
    "plt.plot(lossi)  # plot losses"
   ]
  },
  {
   "cell_type": "code",
   "execution_count": 11,
   "metadata": {},
   "outputs": [
    {
     "data": {
      "text/plain": [
       "0.9452380952380952"
      ]
     },
     "execution_count": 11,
     "metadata": {},
     "output_type": "execute_result"
    }
   ],
   "source": [
    "get_performance(X_test.T, Y_test)  # final test accuracy"
   ]
  },
  {
   "cell_type": "code",
   "execution_count": 12,
   "metadata": {},
   "outputs": [
    {
     "name": "stdout",
     "output_type": "stream",
     "text": [
      "layer 5 (   Sigmoid): mean +0.51, std 0.47, saturated: 41.34%\n"
     ]
    },
    {
     "data": {
      "text/plain": [
       "Text(0.5, 1.0, 'activation distribution')"
      ]
     },
     "execution_count": 12,
     "metadata": {},
     "output_type": "execute_result"
    },
    {
     "data": {
      "image/png": "[encoded data removed]",
      "text/plain": [
       "<Figure size 2000x400 with 1 Axes>"
      ]
     },
     "metadata": {},
     "output_type": "display_data"
    }
   ],
   "source": [
    "plt.figure(figsize=(20, 4)) # plot activations to check neuron saturation\n",
    "legends = []\n",
    "for i, layer in enumerate(layers[:-1]):\n",
    "  if isinstance(layer, Sigmoid):\n",
    "    t = layer.out\n",
    "    print('layer %d (%10s): mean %+.2f, std %.2f, saturated: %.2f%%' % (i, layer.__class__.__name__, t.mean(), t.std(), (t > 0.97).mean()*100))\n",
    "    hy, hx = np.histogram(t, density=True)\n",
    "    plt.plot(hx[:-1], hy)\n",
    "    legends.append(f'layer {i} ({layer.__class__.__name__}')\n",
    "plt.legend(legends);\n",
    "plt.title('activation distribution')"
   ]
  },
  {
   "cell_type": "code",
   "execution_count": null,
   "metadata": {},
   "outputs": [],
   "source": [
    "test = pd.read_csv(\"test.csv\").to_numpy()\n",
    "\n",
    "for layer in layers:\n",
    "    test = layer(test)\n",
    "test = get_predictions(test)  # get test predictions"
   ]
  },
  {
   "cell_type": "code",
   "execution_count": 14,
   "metadata": {},
   "outputs": [],
   "source": [
    "predictions = pd.DataFrame(test)\n",
    "predictions = pd.DataFrame({'ImageId': range(1, len(predictions) + 1), 'Label': predictions[0]})\n",
    "predictions.to_csv(\"submission.csv\", index=False) # store test predictions into csv file"
   ]
  },
  {
   "cell_type": "code",
   "execution_count": null,
   "metadata": {},
   "outputs": [],
   "source": []
  }
 ],
 "metadata": {
  "kernelspec": {
   "display_name": "IML",
   "language": "python",
   "name": "iml"
  },
  "language_info": {
   "codemirror_mode": {
    "name": "ipython",
    "version": 3
   },
   "file_extension": ".py",
   "mimetype": "text/x-python",
   "name": "python",
   "nbconvert_exporter": "python",
   "pygments_lexer": "ipython3",
   "version": "3.12.4"
  }
 },
 "nbformat": 4,
 "nbformat_minor": 2
}
